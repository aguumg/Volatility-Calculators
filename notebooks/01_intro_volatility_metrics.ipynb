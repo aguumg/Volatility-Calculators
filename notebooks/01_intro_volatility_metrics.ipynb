{
 "cells": [
  {
   "cell_type": "markdown",
   "id": "3a4105e5",
   "metadata": {},
   "source": [
    "# Volatility Indicators in Crypto Markets\n",
    "This notebook supports the first blog post in the series, exploring basic volatility metrics using Python."
   ]
  },
  {
   "cell_type": "code",
   "outputs": [
    {
     "ename": "ModuleNotFoundError",
     "evalue": "No module named 'matplotlib'",
     "output_type": "error",
     "traceback": [
      "\u001B[0;31m---------------------------------------------------------------------------\u001B[0m",
      "\u001B[0;31mModuleNotFoundError\u001B[0m                       Traceback (most recent call last)",
      "Cell \u001B[0;32mIn[2], line 3\u001B[0m\n\u001B[1;32m      1\u001B[0m \u001B[38;5;28;01mimport\u001B[39;00m \u001B[38;5;21;01mpandas\u001B[39;00m \u001B[38;5;28;01mas\u001B[39;00m \u001B[38;5;21;01mpd\u001B[39;00m\n\u001B[1;32m      2\u001B[0m \u001B[38;5;28;01mimport\u001B[39;00m \u001B[38;5;21;01mnumpy\u001B[39;00m \u001B[38;5;28;01mas\u001B[39;00m \u001B[38;5;21;01mnp\u001B[39;00m\n\u001B[0;32m----> 3\u001B[0m \u001B[38;5;28;01mimport\u001B[39;00m \u001B[38;5;21;01mmatplotlib\u001B[39;00m\u001B[38;5;21;01m.\u001B[39;00m\u001B[38;5;21;01mpyplot\u001B[39;00m \u001B[38;5;28;01mas\u001B[39;00m \u001B[38;5;21;01mplt\u001B[39;00m\n\u001B[1;32m      4\u001B[0m \u001B[38;5;28;01mimport\u001B[39;00m \u001B[38;5;21;01mseaborn\u001B[39;00m \u001B[38;5;28;01mas\u001B[39;00m \u001B[38;5;21;01msns\u001B[39;00m\n\u001B[1;32m      6\u001B[0m \u001B[38;5;28;01mfrom\u001B[39;00m \u001B[38;5;21;01mlib\u001B[39;00m\u001B[38;5;21;01m.\u001B[39;00m\u001B[38;5;21;01mvolatility_metrics\u001B[39;00m \u001B[38;5;28;01mimport\u001B[39;00m (\n\u001B[1;32m      7\u001B[0m     compute_log_returns,\n\u001B[1;32m      8\u001B[0m     rolling_mean,\n\u001B[0;32m   (...)\u001B[0m\n\u001B[1;32m     15\u001B[0m     compute_efficiency_ratio\n\u001B[1;32m     16\u001B[0m )\n",
      "\u001B[0;31mModuleNotFoundError\u001B[0m: No module named 'matplotlib'"
     ]
    }
   ],
   "source": [
    "import pandas as pd\n",
    "import numpy as np\n",
    "import matplotlib.pyplot as plt\n",
    "import seaborn as sns\n",
    "\n",
    "from lib.volatility_metrics import (\n",
    "    compute_log_returns,\n",
    "    compute_rolling_mean,\n",
    "    compute_rolling_std,\n",
    "    compute_z_score,\n",
    "    normalized_candle_height,\n",
    "    range_over_price,\n",
    "    rate_of_change,\n",
    "    average_true_range,\n",
    "    efficiency_ratio\n",
    ")"
   ],
   "metadata": {
    "collapsed": false,
    "ExecuteTime": {
     "end_time": "2025-04-03T10:02:40.759986Z",
     "start_time": "2025-04-03T10:02:40.722136Z"
    }
   },
   "id": "4c25943a9f7339c2",
   "execution_count": 2
  },
  {
   "cell_type": "code",
   "outputs": [],
   "source": [
    "# Load your dataset here (sample path)\n",
    "df = pd.read_csv(\"data/BTCBUSD-1h-data.csv\", parse_dates=[\"Date\"])\n",
    "df.set_index(\"Date\", inplace=True)\n",
    "df = df[[\"Open\", \"High\", \"Low\", \"Close\"]]"
   ],
   "metadata": {
    "collapsed": false
   },
   "id": "f35b9fa648cea8e"
  },
  {
   "cell_type": "code",
   "outputs": [],
   "source": [
    "window = 14\n",
    "\n",
    "# Log returns\n",
    "df[\"LogReturns\"] = compute_log_returns(df[\"Close\"])\n",
    "\n",
    "# Rolling stats\n",
    "df[\"RollingMean\"] = compute_rolling_mean(df[\"LogReturns\"], window)\n",
    "df[\"RollingStd\"] = compute_rolling_std(df[\"LogReturns\"], window)\n",
    "df[\"ZScore\"] = compute_z_score(df[\"LogReturns\"], df[\"RollingMean\"], df[\"RollingStd\"])\n",
    "\n",
    "# Normalized candle height\n",
    "df[\"NormCandleHeight\"] = normalized_candle_height(df[\"High\"], df[\"Low\"], df[\"Close\"])\n",
    "\n",
    "# Range over price (trend-aware)\n",
    "df[\"RangeOverPrice\"] = range_over_price(df[\"High\"], df[\"Low\"], df[\"Close\"], window)\n",
    "\n",
    "# Rate of change\n",
    "df[\"ROC\"] = rate_of_change(df[\"Close\"], window)\n",
    "\n",
    "# ATR\n",
    "df[\"ATR\"] = average_true_range(df[\"High\"], df[\"Low\"], df[\"Close\"], window)\n",
    "\n",
    "# Efficiency ratio\n",
    "df[\"EfficiencyRatio\"] = efficiency_ratio(df[\"Close\"], window)"
   ],
   "metadata": {
    "collapsed": false
   },
   "id": "15046926565b71c3"
  },
  {
   "cell_type": "code",
   "outputs": [],
   "source": [
    "plt.figure(figsize=(14,6))\n",
    "df[\"LogReturns\"].plot(label=\"Log Returns\", alpha=0.6)\n",
    "df[\"RollingStd\"].plot(label=\"Rolling Std\", linewidth=2)\n",
    "plt.title(\"Log Returns and Rolling Volatility\")\n",
    "plt.legend()\n",
    "plt.show()"
   ],
   "metadata": {
    "collapsed": false
   },
   "id": "61d1c38941bfcda8"
  },
  {
   "cell_type": "code",
   "outputs": [],
   "source": [
    "df[\"NormCandleHeight\"].plot(figsize=(14,5), title=\"Normalized Candle Height\")\n",
    "plt.show()"
   ],
   "metadata": {
    "collapsed": false
   },
   "id": "9489e809983cd487"
  },
  {
   "cell_type": "code",
   "outputs": [],
   "source": [
    "df[\"EfficiencyRatio\"].plot(figsize=(14,5), title=\"Efficiency Ratio (Trend Strength)\")\n",
    "plt.axhline(1, color=\"red\", linestyle=\"--\", alpha=0.5)\n",
    "plt.show()"
   ],
   "metadata": {
    "collapsed": false
   },
   "id": "95e10dd731ea660b"
  },
  {
   "cell_type": "markdown",
   "id": "b4675ab6",
   "metadata": {},
   "source": [
    "## Conclusion\n",
    "\n",
    "This notebook shows how a handful of simple yet powerful volatility metrics can give insight into crypto market behavior.\n",
    "\n",
    "Each one captures a different angle — from pure return dispersion to candle structure and trend strength.\n",
    "\n",
    "In the next post, we'll explore more advanced models like EWMA, GARCH, and volatility clustering. Stay tuned!"
   ]
  }
 ],
 "metadata": {
  "kernelspec": {
   "name": "python3",
   "language": "python",
   "display_name": "Python 3 (ipykernel)"
  }
 },
 "nbformat": 4,
 "nbformat_minor": 5
}
