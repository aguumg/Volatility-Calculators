{
 "cells": [
  {
   "cell_type": "markdown",
   "id": "5fa55c12",
   "metadata": {},
   "source": [
    "# Volatility Indicators in Crypto Markets\n",
    "This notebook supports the first blog post in the series, exploring basic volatility metrics using Python."
   ]
  },
  {
   "cell_type": "code",
   "execution_count": 1,
   "id": "a821977e",
   "metadata": {},
   "outputs": [],
   "source": [
    "import pandas as pd\n",
    "import numpy as np\n",
    "import matplotlib.pyplot as plt\n",
    "import seaborn as sns\n",
    "\n",
    "from lib.volatility_metrics import (\n",
    "    compute_log_returns,\n",
    "    compute_rolling_mean,\n",
    "    compute_rolling_std,\n",
    "    compute_z_score,\n",
    "    normalized_candle_height,\n",
    "    range_over_price,\n",
    "    rate_of_change,\n",
    "    average_true_range,\n",
    "    efficiency_ratio\n",
    ")"
   ]
  },
  {
   "cell_type": "code",
   "execution_count": 2,
   "id": "23f7cd9e",
   "metadata": {},
   "outputs": [],
   "source": [
    "# Load your dataset here (sample path)\n",
    "df = pd.read_csv(\"data/BTCBUSD-1h-data.csv\", parse_dates=[\"Date\"])\n",
    "df.set_index(\"Date\", inplace=True)\n",
    "df = df[[\"Open\", \"High\", \"Low\", \"Close\"]]"
   ]
  },
  {
   "cell_type": "code",
   "execution_count": 3,
   "id": "9279d17e",
   "metadata": {},
   "outputs": [],
   "source": [
    "window = 14\n",
    "\n",
    "# Log returns\n",
    "df[\"LogReturns\"] = compute_log_returns(df[\"Close\"])\n",
    "\n",
    "# Rolling stats\n",
    "df[\"RollingMean\"] = compute_rolling_mean(df[\"LogReturns\"], window)\n",
    "df[\"RollingStd\"] = compute_rolling_std(df[\"LogReturns\"], window)\n",
    "df[\"ZScore\"] = compute_z_score(df[\"LogReturns\"], df[\"RollingMean\"], df[\"RollingStd\"])\n",
    "\n",
    "# Normalized candle height\n",
    "df[\"NormCandleHeight\"] = normalized_candle_height(df[\"High\"], df[\"Low\"], df[\"Close\"])\n",
    "\n",
    "# Range over price (trend-aware)\n",
    "df[\"RangeOverPrice\"] = range_over_price(df[\"High\"], df[\"Low\"], df[\"Close\"], window)\n",
    "\n",
    "# Rate of change\n",
    "df[\"ROC\"] = rate_of_change(df[\"Close\"], window)\n",
    "\n",
    "# ATR\n",
    "df[\"ATR\"] = average_true_range(df[\"High\"], df[\"Low\"], df[\"Close\"], window)\n",
    "\n",
    "# Efficiency ratio\n",
    "df[\"EfficiencyRatio\"] = efficiency_ratio(df[\"Close\"], window)"
   ]
  },
  {
   "cell_type": "code",
   "execution_count": 4,
   "id": "7b630149",
   "metadata": {},
   "outputs": [],
   "source": [
    "plt.figure(figsize=(14,6))\n",
    "df[\"LogReturns\"].plot(label=\"Log Returns\", alpha=0.6)\n",
    "df[\"RollingStd\"].plot(label=\"Rolling Std\", linewidth=2)\n",
    "plt.title(\"Log Returns and Rolling Volatility\")\n",
    "plt.legend()\n",
    "plt.show()"
   ]
  },
  {
   "cell_type": "code",
   "execution_count": 5,
   "id": "b78650a8",
   "metadata": {},
   "outputs": [],
   "source": [
    "df[\"NormCandleHeight\"].plot(figsize=(14,5), title=\"Normalized Candle Height\")\n",
    "plt.show()"
   ]
  },
  {
   "cell_type": "code",
   "execution_count": 6,
   "id": "cad76aca",
   "metadata": {},
   "outputs": [],
   "source": [
    "df[\"EfficiencyRatio\"].plot(figsize=(14,5), title=\"Efficiency Ratio (Trend Strength)\")\n",
    "plt.axhline(1, color=\"red\", linestyle=\"--\", alpha=0.5)\n",
    "plt.show()"
   ]
  },
  {
   "cell_type": "markdown",
   "id": "616789a7",
   "metadata": {},
   "source": [
    "## Conclusion\n",
    "\n",
    "This notebook shows how a handful of simple yet powerful volatility metrics can give insight into crypto market behavior.\n",
    "\n",
    "Each one captures a different angle — from pure return dispersion to candle structure and trend strength.\n",
    "\n",
    "In the next post, we'll explore more advanced models like EWMA, GARCH, and volatility clustering. Stay tuned!"
   ]
  }
 ],
 "metadata": {},
 "nbformat": 4,
 "nbformat_minor": 5
}
